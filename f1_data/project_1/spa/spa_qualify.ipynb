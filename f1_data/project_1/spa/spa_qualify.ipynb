{
 "cells": [
  {
   "cell_type": "code",
   "execution_count": 1,
   "metadata": {},
   "outputs": [],
   "source": [
    "import fastf1 as fastf1\n",
    "from fastf1 import plotting\n",
    "from matplotlib import pyplot as plt\n",
    "from matplotlib.pyplot import figure\n",
    "from matplotlib.collections import LineCollection\n",
    "from matplotlib import cm\n",
    "import numpy as np\n",
    "import pandas as pd"
   ]
  },
  {
   "cell_type": "code",
   "execution_count": 3,
   "metadata": {},
   "outputs": [
    {
     "name": "stderr",
     "output_type": "stream",
     "text": [
      "core           INFO \tLoading data for Dutch Grand Prix - Qualifying [v3.0.0]\n",
      "req            INFO \tNo cached data found for driver_info. Loading data...\n",
      "_api           INFO \tFetching driver list...\n",
      "core        WARNING \tFailed to load extended driver information!\n",
      "logger      WARNING \tFailed to load result data from Ergast! (This is expected for recent sessions)\n",
      "logger      WARNING \tFailed to load results data!\n",
      "req            INFO \tNo cached data found for session_status_data. Loading data...\n",
      "_api           INFO \tFetching session status data...\n",
      "logger      WARNING \tFailed to load session status data!\n",
      "req            INFO \tNo cached data found for track_status_data. Loading data...\n",
      "_api           INFO \tFetching track status data...\n",
      "logger      WARNING \tFailed to load track status data!\n",
      "req            INFO \tNo cached data found for timing_data. Loading data...\n",
      "_api           INFO \tFetching timing data...\n",
      "logger      WARNING \tFailed to load timing data!\n",
      "req            INFO \tNo cached data found for car_data. Loading data...\n",
      "_api           INFO \tFetching car data...\n",
      "logger      WARNING \tFailed to load telemetry data!\n",
      "req            INFO \tNo cached data found for weather_data. Loading data...\n",
      "_api           INFO \tFetching weather data...\n",
      "logger      WARNING \tFailed to load weather data!\n",
      "req            INFO \tNo cached data found for race_control_messages. Loading data...\n",
      "_api           INFO \tFetching race control messages...\n",
      "logger      WARNING \tFailed to load race control messages!\n"
     ]
    },
    {
     "ename": "DataNotLoadedError",
     "evalue": "The data you are trying to access has not been loaded yet. See `Session.load`",
     "output_type": "error",
     "traceback": [
      "\u001b[0;31m---------------------------------------------------------------------------\u001b[0m",
      "\u001b[0;31mDataNotLoadedError\u001b[0m                        Traceback (most recent call last)",
      "Cell \u001b[0;32mIn[3], line 10\u001b[0m\n\u001b[1;32m      8\u001b[0m \u001b[39m# load a session and its telemetry data\u001b[39;00m\n\u001b[1;32m      9\u001b[0m session \u001b[39m=\u001b[39m fastf1\u001b[39m.\u001b[39mget_session(\u001b[39m2023\u001b[39m, \u001b[39m13\u001b[39m, \u001b[39m'\u001b[39m\u001b[39mQ\u001b[39m\u001b[39m'\u001b[39m)\n\u001b[0;32m---> 10\u001b[0m session\u001b[39m.\u001b[39;49mload()\n",
      "File \u001b[0;32m~/f1_data/lib/python3.10/site-packages/fastf1/core.py:1241\u001b[0m, in \u001b[0;36mSession.load\u001b[0;34m(self, laps, telemetry, weather, messages, livedata)\u001b[0m\n\u001b[1;32m   1238\u001b[0m \u001b[39mself\u001b[39m\u001b[39m.\u001b[39m_fix_missing_laps_retired_on_track()\n\u001b[1;32m   1239\u001b[0m \u001b[39mself\u001b[39m\u001b[39m.\u001b[39m_set_laps_deleted_from_rcm()\n\u001b[0;32m-> 1241\u001b[0m _logger\u001b[39m.\u001b[39minfo(\u001b[39mf\u001b[39m\u001b[39m\"\u001b[39m\u001b[39mFinished loading data for \u001b[39m\u001b[39m{\u001b[39;00m\u001b[39mlen\u001b[39m(\u001b[39mself\u001b[39;49m\u001b[39m.\u001b[39;49mdrivers)\u001b[39m}\u001b[39;00m\u001b[39m \u001b[39m\u001b[39m\"\u001b[39m\n\u001b[1;32m   1242\u001b[0m              \u001b[39mf\u001b[39m\u001b[39m\"\u001b[39m\u001b[39mdrivers: \u001b[39m\u001b[39m{\u001b[39;00m\u001b[39mself\u001b[39m\u001b[39m.\u001b[39mdrivers\u001b[39m}\u001b[39;00m\u001b[39m\"\u001b[39m)\n",
      "File \u001b[0;32m~/f1_data/lib/python3.10/site-packages/fastf1/core.py:1055\u001b[0m, in \u001b[0;36mSession.drivers\u001b[0;34m(self)\u001b[0m\n\u001b[1;32m   1048\u001b[0m \u001b[39m@property\u001b[39m\n\u001b[1;32m   1049\u001b[0m \u001b[39mdef\u001b[39;00m \u001b[39mdrivers\u001b[39m(\u001b[39mself\u001b[39m):\n\u001b[1;32m   1050\u001b[0m \u001b[39m    \u001b[39m\u001b[39m\"\"\":class:`list`: List of all drivers that took part in this\u001b[39;00m\n\u001b[1;32m   1051\u001b[0m \u001b[39m    session; contains driver numbers as string.\u001b[39;00m\n\u001b[1;32m   1052\u001b[0m \n\u001b[1;32m   1053\u001b[0m \u001b[39m    Data is available after calling `Session.load`\u001b[39;00m\n\u001b[1;32m   1054\u001b[0m \u001b[39m    \"\"\"\u001b[39;00m\n\u001b[0;32m-> 1055\u001b[0m     \u001b[39mreturn\u001b[39;00m \u001b[39mlist\u001b[39m(\u001b[39mself\u001b[39;49m\u001b[39m.\u001b[39;49mresults[\u001b[39m'\u001b[39m\u001b[39mDriverNumber\u001b[39m\u001b[39m'\u001b[39m]\u001b[39m.\u001b[39munique())\n",
      "File \u001b[0;32m~/f1_data/lib/python3.10/site-packages/fastf1/core.py:1063\u001b[0m, in \u001b[0;36mSession.results\u001b[0;34m(self)\u001b[0m\n\u001b[1;32m   1057\u001b[0m \u001b[39m@property\u001b[39m\n\u001b[1;32m   1058\u001b[0m \u001b[39mdef\u001b[39;00m \u001b[39mresults\u001b[39m(\u001b[39mself\u001b[39m) \u001b[39m-\u001b[39m\u001b[39m>\u001b[39m \u001b[39m\"\u001b[39m\u001b[39mSessionResults\u001b[39m\u001b[39m\"\u001b[39m:\n\u001b[1;32m   1059\u001b[0m \u001b[39m    \u001b[39m\u001b[39m\"\"\":class:`SessionResults`: Session result with driver information.\u001b[39;00m\n\u001b[1;32m   1060\u001b[0m \n\u001b[1;32m   1061\u001b[0m \u001b[39m    Data is available after calling `Session.load`\u001b[39;00m\n\u001b[1;32m   1062\u001b[0m \u001b[39m    \"\"\"\u001b[39;00m\n\u001b[0;32m-> 1063\u001b[0m     \u001b[39mreturn\u001b[39;00m \u001b[39mself\u001b[39;49m\u001b[39m.\u001b[39;49m_get_property_warn_not_loaded(\u001b[39m'\u001b[39;49m\u001b[39m_results\u001b[39;49m\u001b[39m'\u001b[39;49m)\n",
      "File \u001b[0;32m~/f1_data/lib/python3.10/site-packages/fastf1/core.py:1044\u001b[0m, in \u001b[0;36mSession._get_property_warn_not_loaded\u001b[0;34m(self, name)\u001b[0m\n\u001b[1;32m   1042\u001b[0m \u001b[39mdef\u001b[39;00m \u001b[39m_get_property_warn_not_loaded\u001b[39m(\u001b[39mself\u001b[39m, name):\n\u001b[1;32m   1043\u001b[0m     \u001b[39mif\u001b[39;00m \u001b[39mnot\u001b[39;00m \u001b[39mhasattr\u001b[39m(\u001b[39mself\u001b[39m, name):\n\u001b[0;32m-> 1044\u001b[0m         \u001b[39mraise\u001b[39;00m DataNotLoadedError(\u001b[39m\"\u001b[39m\u001b[39mThe data you are trying to access has not \u001b[39m\u001b[39m\"\u001b[39m\n\u001b[1;32m   1045\u001b[0m                                  \u001b[39m\"\u001b[39m\u001b[39mbeen loaded yet. See `Session.load`\u001b[39m\u001b[39m\"\u001b[39m)\n\u001b[1;32m   1046\u001b[0m     \u001b[39mreturn\u001b[39;00m \u001b[39mgetattr\u001b[39m(\u001b[39mself\u001b[39m, name, \u001b[39mNone\u001b[39;00m)\n",
      "\u001b[0;31mDataNotLoadedError\u001b[0m: The data you are trying to access has not been loaded yet. See `Session.load`"
     ]
    }
   ],
   "source": [
    "# enable some matplotlib patches for plotting timedelta values and load\n",
    "# FastF1's default color scheme\n",
    "fastf1.plotting.setup_mpl(misc_mpl_mods=False)\n",
    "\n",
    "# load a session and its telemetry data\n",
    "session = fastf1.get_session(2023, 13, 'Q')\n",
    "session.load()"
   ]
  }
 ],
 "metadata": {
  "kernelspec": {
   "display_name": "f1_data",
   "language": "python",
   "name": "python3"
  },
  "language_info": {
   "codemirror_mode": {
    "name": "ipython",
    "version": 3
   },
   "file_extension": ".py",
   "mimetype": "text/x-python",
   "name": "python",
   "nbconvert_exporter": "python",
   "pygments_lexer": "ipython3",
   "version": "3.10.10"
  },
  "orig_nbformat": 4
 },
 "nbformat": 4,
 "nbformat_minor": 2
}
