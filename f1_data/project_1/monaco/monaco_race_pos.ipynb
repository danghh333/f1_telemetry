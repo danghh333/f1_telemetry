{
 "cells": [
  {
   "cell_type": "code",
   "execution_count": 6,
   "metadata": {},
   "outputs": [],
   "source": [
    "import fastf1.plotting\n",
    "import matplotlib.pyplot as plt\n",
    "\n",
    "\n",
    "fastf1.plotting.setup_mpl(misc_mpl_mods=False)"
   ]
  },
  {
   "cell_type": "code",
   "execution_count": 7,
   "metadata": {},
   "outputs": [
    {
     "name": "stderr",
     "output_type": "stream",
     "text": [
      "core           INFO \tLoading data for Bahrain Grand Prix - Race [v3.0.0]\n",
      "req            INFO \tUsing cached data for driver_info\n",
      "Request for URL https://ergast.com/api/f1/2023/1/results.json failed; using cached response\n",
      "Traceback (most recent call last):\n",
      "  File \"/home/dang032003/f1_data/lib/python3.10/site-packages/urllib3/connection.py\", line 200, in _new_conn\n",
      "    sock = connection.create_connection(\n",
      "  File \"/home/dang032003/f1_data/lib/python3.10/site-packages/urllib3/util/connection.py\", line 85, in create_connection\n",
      "    raise err\n",
      "  File \"/home/dang032003/f1_data/lib/python3.10/site-packages/urllib3/util/connection.py\", line 73, in create_connection\n",
      "    sock.connect(sa)\n",
      "ConnectionRefusedError: [Errno 111] Connection refused\n",
      "\n",
      "The above exception was the direct cause of the following exception:\n",
      "\n",
      "Traceback (most recent call last):\n",
      "  File \"/home/dang032003/f1_data/lib/python3.10/site-packages/urllib3/connectionpool.py\", line 790, in urlopen\n",
      "    response = self._make_request(\n",
      "  File \"/home/dang032003/f1_data/lib/python3.10/site-packages/urllib3/connectionpool.py\", line 491, in _make_request\n",
      "    raise new_e\n",
      "  File \"/home/dang032003/f1_data/lib/python3.10/site-packages/urllib3/connectionpool.py\", line 467, in _make_request\n",
      "    self._validate_conn(conn)\n",
      "  File \"/home/dang032003/f1_data/lib/python3.10/site-packages/urllib3/connectionpool.py\", line 1092, in _validate_conn\n",
      "    conn.connect()\n",
      "  File \"/home/dang032003/f1_data/lib/python3.10/site-packages/urllib3/connection.py\", line 604, in connect\n",
      "    self.sock = sock = self._new_conn()\n",
      "  File \"/home/dang032003/f1_data/lib/python3.10/site-packages/urllib3/connection.py\", line 215, in _new_conn\n",
      "    raise NewConnectionError(\n",
      "urllib3.exceptions.NewConnectionError: <urllib3.connection.HTTPSConnection object at 0x7f822a4022f0>: Failed to establish a new connection: [Errno 111] Connection refused\n",
      "\n",
      "The above exception was the direct cause of the following exception:\n",
      "\n",
      "Traceback (most recent call last):\n",
      "  File \"/home/dang032003/f1_data/lib/python3.10/site-packages/requests/adapters.py\", line 486, in send\n",
      "    resp = conn.urlopen(\n",
      "  File \"/home/dang032003/f1_data/lib/python3.10/site-packages/urllib3/connectionpool.py\", line 844, in urlopen\n",
      "    retries = retries.increment(\n",
      "  File \"/home/dang032003/f1_data/lib/python3.10/site-packages/urllib3/util/retry.py\", line 515, in increment\n",
      "    raise MaxRetryError(_pool, url, reason) from reason  # type: ignore[arg-type]\n",
      "urllib3.exceptions.MaxRetryError: HTTPSConnectionPool(host='ergast.com', port=443): Max retries exceeded with url: /api/f1/2023/1/results.json (Caused by NewConnectionError('<urllib3.connection.HTTPSConnection object at 0x7f822a4022f0>: Failed to establish a new connection: [Errno 111] Connection refused'))\n",
      "\n",
      "During handling of the above exception, another exception occurred:\n",
      "\n",
      "Traceback (most recent call last):\n",
      "  File \"/home/dang032003/f1_data/lib/python3.10/site-packages/requests_cache/session.py\", line 255, in _resend\n",
      "    response = self._send_and_cache(request, actions, cached_response, **kwargs)\n",
      "  File \"/home/dang032003/f1_data/lib/python3.10/site-packages/requests_cache/session.py\", line 230, in _send_and_cache\n",
      "    response = super().send(request, **kwargs)\n",
      "  File \"/home/dang032003/f1_data/lib/python3.10/site-packages/fastf1/req.py\", line 124, in send\n",
      "    return super().send(request, **kwargs)\n",
      "  File \"/home/dang032003/f1_data/lib/python3.10/site-packages/requests/sessions.py\", line 701, in send\n",
      "    r = adapter.send(request, **kwargs)\n",
      "  File \"/home/dang032003/f1_data/lib/python3.10/site-packages/requests/adapters.py\", line 519, in send\n",
      "    raise ConnectionError(e, request=request)\n",
      "requests.exceptions.ConnectionError: HTTPSConnectionPool(host='ergast.com', port=443): Max retries exceeded with url: /api/f1/2023/1/results.json (Caused by NewConnectionError('<urllib3.connection.HTTPSConnection object at 0x7f822a4022f0>: Failed to establish a new connection: [Errno 111] Connection refused'))\n",
      "req            INFO \tUsing cached data for session_status_data\n",
      "req            INFO \tUsing cached data for lap_count\n",
      "req            INFO \tUsing cached data for track_status_data\n",
      "req            INFO \tUsing cached data for timing_data\n",
      "req            INFO \tUsing cached data for timing_app_data\n",
      "core           INFO \tProcessing timing data...\n",
      "Request for URL https://ergast.com/api/f1/2023/1/laps/1.json failed; using cached response\n",
      "Traceback (most recent call last):\n",
      "  File \"/home/dang032003/f1_data/lib/python3.10/site-packages/urllib3/connection.py\", line 200, in _new_conn\n",
      "    sock = connection.create_connection(\n",
      "  File \"/home/dang032003/f1_data/lib/python3.10/site-packages/urllib3/util/connection.py\", line 85, in create_connection\n",
      "    raise err\n",
      "  File \"/home/dang032003/f1_data/lib/python3.10/site-packages/urllib3/util/connection.py\", line 73, in create_connection\n",
      "    sock.connect(sa)\n",
      "ConnectionRefusedError: [Errno 111] Connection refused\n",
      "\n",
      "The above exception was the direct cause of the following exception:\n",
      "\n",
      "Traceback (most recent call last):\n",
      "  File \"/home/dang032003/f1_data/lib/python3.10/site-packages/urllib3/connectionpool.py\", line 790, in urlopen\n",
      "    response = self._make_request(\n",
      "  File \"/home/dang032003/f1_data/lib/python3.10/site-packages/urllib3/connectionpool.py\", line 491, in _make_request\n",
      "    raise new_e\n",
      "  File \"/home/dang032003/f1_data/lib/python3.10/site-packages/urllib3/connectionpool.py\", line 467, in _make_request\n",
      "    self._validate_conn(conn)\n",
      "  File \"/home/dang032003/f1_data/lib/python3.10/site-packages/urllib3/connectionpool.py\", line 1092, in _validate_conn\n",
      "    conn.connect()\n",
      "  File \"/home/dang032003/f1_data/lib/python3.10/site-packages/urllib3/connection.py\", line 604, in connect\n",
      "    self.sock = sock = self._new_conn()\n",
      "  File \"/home/dang032003/f1_data/lib/python3.10/site-packages/urllib3/connection.py\", line 215, in _new_conn\n",
      "    raise NewConnectionError(\n",
      "urllib3.exceptions.NewConnectionError: <urllib3.connection.HTTPSConnection object at 0x7f822a403e20>: Failed to establish a new connection: [Errno 111] Connection refused\n",
      "\n",
      "The above exception was the direct cause of the following exception:\n",
      "\n",
      "Traceback (most recent call last):\n",
      "  File \"/home/dang032003/f1_data/lib/python3.10/site-packages/requests/adapters.py\", line 486, in send\n",
      "    resp = conn.urlopen(\n",
      "  File \"/home/dang032003/f1_data/lib/python3.10/site-packages/urllib3/connectionpool.py\", line 844, in urlopen\n",
      "    retries = retries.increment(\n",
      "  File \"/home/dang032003/f1_data/lib/python3.10/site-packages/urllib3/util/retry.py\", line 515, in increment\n",
      "    raise MaxRetryError(_pool, url, reason) from reason  # type: ignore[arg-type]\n",
      "urllib3.exceptions.MaxRetryError: HTTPSConnectionPool(host='ergast.com', port=443): Max retries exceeded with url: /api/f1/2023/1/laps/1.json (Caused by NewConnectionError('<urllib3.connection.HTTPSConnection object at 0x7f822a403e20>: Failed to establish a new connection: [Errno 111] Connection refused'))\n",
      "\n",
      "During handling of the above exception, another exception occurred:\n",
      "\n",
      "Traceback (most recent call last):\n",
      "  File \"/home/dang032003/f1_data/lib/python3.10/site-packages/requests_cache/session.py\", line 255, in _resend\n",
      "    response = self._send_and_cache(request, actions, cached_response, **kwargs)\n",
      "  File \"/home/dang032003/f1_data/lib/python3.10/site-packages/requests_cache/session.py\", line 230, in _send_and_cache\n",
      "    response = super().send(request, **kwargs)\n",
      "  File \"/home/dang032003/f1_data/lib/python3.10/site-packages/fastf1/req.py\", line 124, in send\n",
      "    return super().send(request, **kwargs)\n",
      "  File \"/home/dang032003/f1_data/lib/python3.10/site-packages/requests/sessions.py\", line 701, in send\n",
      "    r = adapter.send(request, **kwargs)\n",
      "  File \"/home/dang032003/f1_data/lib/python3.10/site-packages/requests/adapters.py\", line 519, in send\n",
      "    raise ConnectionError(e, request=request)\n",
      "requests.exceptions.ConnectionError: HTTPSConnectionPool(host='ergast.com', port=443): Max retries exceeded with url: /api/f1/2023/1/laps/1.json (Caused by NewConnectionError('<urllib3.connection.HTTPSConnection object at 0x7f822a403e20>: Failed to establish a new connection: [Errno 111] Connection refused'))\n",
      "req            INFO \tUsing cached data for race_control_messages\n",
      "core           INFO \tFinished loading data for 20 drivers: ['1', '11', '14', '55', '44', '18', '63', '77', '10', '23', '22', '2', '20', '21', '27', '24', '4', '31', '16', '81']\n"
     ]
    },
    {
     "data": {
      "image/png": "[encoded data removed]",
      "text/plain": [
       "<Figure size 800x490 with 1 Axes>"
      ]
     },
     "metadata": {},
     "output_type": "display_data"
    }
   ],
   "source": [
    "session = fastf1.get_session(2023, 1, 'R')\n",
    "session.load(telemetry=False, weather=False)\n",
    "\n",
    "fig, ax = plt.subplots(figsize=(8.0, 4.9))"
   ]
  },
  {
   "cell_type": "code",
   "execution_count": 8,
   "metadata": {},
   "outputs": [],
   "source": [
    "# Positions of driver over the number of laps\n",
    "for drv in session.drivers:\n",
    "    drv_laps = session.laps.pick_driver(drv)\n",
    "\n",
    "    abb = drv_laps['Driver'].iloc[0]\n",
    "    color = fastf1.plotting.driver_color(abb)\n",
    "\n",
    "    ax.plot(drv_laps['LapNumber'], drv_laps['Position'],\n",
    "            label=abb, color=color)"
   ]
  },
  {
   "cell_type": "code",
   "execution_count": 9,
   "metadata": {},
   "outputs": [
    {
     "data": {
      "text/plain": [
       "Text(4.444444444444452, 0.5, 'Position')"
      ]
     },
     "execution_count": 9,
     "metadata": {},
     "output_type": "execute_result"
    }
   ],
   "source": [
    "# Plotting\n",
    "ax.set_ylim([20.5, 0.5])\n",
    "ax.set_yticks([1, 5, 10, 15, 20])\n",
    "ax.set_xlabel('Lap')\n",
    "ax.set_ylabel('Position')"
   ]
  },
  {
   "cell_type": "code",
   "execution_count": 10,
   "metadata": {},
   "outputs": [
    {
     "data": {
      "text/plain": [
       "<Figure size 640x480 with 0 Axes>"
      ]
     },
     "metadata": {},
     "output_type": "display_data"
    }
   ],
   "source": [
    "ax.legend(bbox_to_anchor=(1.0, 1.02))\n",
    "plt.tight_layout()\n",
    "plt.show()"
   ]
  }
 ],
 "metadata": {
  "kernelspec": {
   "display_name": "f1_data",
   "language": "python",
   "name": "python3"
  },
  "language_info": {
   "codemirror_mode": {
    "name": "ipython",
    "version": 3
   },
   "file_extension": ".py",
   "mimetype": "text/x-python",
   "name": "python",
   "nbconvert_exporter": "python",
   "pygments_lexer": "ipython3",
   "version": "3.10.10"
  },
  "orig_nbformat": 4
 },
 "nbformat": 4,
 "nbformat_minor": 2
}
